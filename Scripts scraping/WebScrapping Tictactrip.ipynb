{
 "cells": [
  {
   "cell_type": "code",
   "execution_count": 19,
   "id": "6267ac06",
   "metadata": {},
   "outputs": [],
   "source": [
    "from selenium import webdriver\n",
    "import time\n",
    "import pandas as pd\n",
    "from selenium.webdriver.common.keys import Keys\n",
    "from selenium.webdriver.common.by import By\n",
    "import datetime"
   ]
  },
  {
   "cell_type": "code",
   "execution_count": 20,
   "id": "b78e606d",
   "metadata": {},
   "outputs": [],
   "source": [
    "# 1- Paris-Lyon\n",
    "paris_lyon = ['Scrap_data_train_Paris-Lyon','https://www.tictactrip.eu/results?origin=Paris&originId=628&nfs=&nft=&destination=Lyon&destinationId=485&outboundDate=2023-02-06T00%3A00%3A00Z&outboundTime=0&returnTime=0&passengers=%5B%22%7B%5C%22id%5C%22%3A5%2C%5C%22age%5C%22%3A35%2C%5C%22category%5C%22%3A%5C%22adults%5C%22%2C%5C%22discountCards%5C%22%3A%5B%5D%7D%22%5D']\n",
    "\n",
    "# 2- Paris-Stuttgart\n",
    "paris_stuttgart = ['Scrap_data_train_Paris-Stuttgart','https://www.tictactrip.eu/results?origin=Paris&originId=628&nfs=&nft=&destination=Stuttgart&destinationId=814&outboundDate=2023-02-06T00%3A00%3A00Z&outboundTime=0&returnTime=0&passengers=%5B%22%7B%5C%22id%5C%22%3A0%2C%5C%22age%5C%22%3A35%2C%5C%22category%5C%22%3A%5C%22adults%5C%22%2C%5C%22discountCards%5C%22%3A%5B%5D%7D%22%5D']\n",
    "\n",
    "# 3- Paris-Budapest\n",
    "paris_budapest = ['Scrap_data_train_Paris-Budapest','https://www.tictactrip.eu/results?origin=Paris&originId=628&nfs=&nft=&destination=Budapest&destinationId=163&outboundDate=2023-02-06T00%3A00%3A00Z&outboundTime=0&returnTime=0&passengers=%5B%22%7B%5C%22id%5C%22%3A5%2C%5C%22age%5C%22%3A35%2C%5C%22category%5C%22%3A%5C%22adults%5C%22%2C%5C%22discountCards%5C%22%3A%5B%5D%7D%22%5D']\n",
    "\n",
    "# 4- Bordeaux-Lyon\n",
    "bordeaux_lyon = ['Scrap_data_train_Bordeaux-Lyon','https://www.tictactrip.eu/results?origin=Bordeaux&originId=126&nfs=&nft=&destination=Lyon&destinationId=485&outboundDate=2023-02-06T00%3A00%3A00Z&outboundTime=0&returnTime=0&passengers=%5B%22%7B%5C%22id%5C%22%3A5%2C%5C%22age%5C%22%3A35%2C%5C%22category%5C%22%3A%5C%22adults%5C%22%2C%5C%22discountCards%5C%22%3A%5B%5D%7D%22%5D']"
   ]
  },
  {
   "cell_type": "code",
   "execution_count": 21,
   "id": "2061a674",
   "metadata": {},
   "outputs": [],
   "source": [
    "def scrap_horaires(driver):\n",
    "    \n",
    "    horaires_train = driver.find_elements_by_xpath('//*[@class=\"Trip__Container-j8kq68-0 jNOJBd\"]//h5[@class=\"H5-uejt78-0 TripOD__Time-sc-7b5xzk-1 bXShev eAqLta\"]')\n",
    "    horaires_bus = driver.find_elements_by_xpath('//*[@class=\"Trip__Container-j8kq68-0 jNOJBd\"]//h5[@class=\"H5-uejt78-0 TripOD__Time-sc-7b5xzk-1 bXShev eAqLta\"]')\n",
    "    \n",
    "    print(horaires_bus[0].text)\n",
    "    \n",
    "    horaire_depart = []\n",
    "    horaire_arrivee = []\n",
    "    compteur = 0\n",
    "    for i in horaires_train : \n",
    "        if (compteur%2 == 0):\n",
    "            horaire_depart.append(i.text)\n",
    "        else:\n",
    "            horaire_arrivee.append(i.text)\n",
    "        compteur = compteur+1\n",
    "        \n",
    "    return horaire_depart, horaire_arrivee"
   ]
  },
  {
   "cell_type": "code",
   "execution_count": 22,
   "id": "31dd4be9",
   "metadata": {},
   "outputs": [],
   "source": [
    "def scrap_villes(driver):\n",
    "\n",
    "    villes_scrap = driver.find_elements_by_xpath('//*[@class=\"Trip__Container-j8kq68-0 jNOJBd\"]//p[@class=\"TripOD__City-sc-7b5xzk-3 fTdxeo\"]')\n",
    "    \n",
    "    ville_depart = []\n",
    "    ville_arrivee = []\n",
    "    compteur = 0\n",
    "    for i in villes_scrap : \n",
    "        if (compteur%2 == 0):\n",
    "            ville_depart.append(i.text)\n",
    "        else:\n",
    "            ville_arrivee.append(i.text)\n",
    "        compteur = compteur+1\n",
    "    return ville_depart,ville_arrivee"
   ]
  },
  {
   "cell_type": "code",
   "execution_count": 23,
   "id": "219d5eb3",
   "metadata": {},
   "outputs": [],
   "source": [
    "def scrap_gares(driver):\n",
    "    \n",
    "    gares_scrap = driver.find_elements_by_xpath('//*[@class=\"Trip__Container-j8kq68-0 jNOJBd\"]//p[@class=\"TripOD__Place-sc-7b5xzk-2 LAPYT\"]')\n",
    "\n",
    "    gare_depart = []\n",
    "    gare_arrivee = []\n",
    "    compteur = 0\n",
    "    for i in gares_scrap : \n",
    "        if (compteur%2 == 0):\n",
    "            gare_depart.append(i.text)\n",
    "        else:\n",
    "            gare_arrivee.append(i.text)\n",
    "        compteur = compteur+1\n",
    "        \n",
    "    return gare_depart, gare_arrivee"
   ]
  },
  {
   "cell_type": "code",
   "execution_count": 24,
   "id": "40b47213",
   "metadata": {},
   "outputs": [],
   "source": [
    "def scrap_prix(driver):\n",
    "    \n",
    "    prix_scrap = driver.find_elements_by_xpath('//*[@class=\"Trip__Container-j8kq68-0 jNOJBd\"]//div[@class=\"TripPrice__Container-sc-23aeng-0 jPDEZi\"]')\n",
    "\n",
    "    prix_train = []\n",
    "    for i in prix_scrap : \n",
    "        prix_train.append(i.text[5:])\n",
    "        \n",
    "    return prix_train"
   ]
  },
  {
   "cell_type": "code",
   "execution_count": 25,
   "id": "51598dde",
   "metadata": {},
   "outputs": [],
   "source": [
    "def scrap_trajet(driver):\n",
    "    duree_scrap = driver.find_elements_by_xpath('//*[@class=\"Trip__Container-j8kq68-0 jNOJBd\"]//p[@class=\"Caption-q32nkc-0 Trip__Duration-j8kq68-5 kauXGT hBFlMf\"]')\n",
    "    escale_train = []\n",
    "    duree_train = []\n",
    "    for i in range(len(duree_scrap)):\n",
    "        escale_train.append(duree_scrap[i].text.split(', \\n')[1])\n",
    "        duree_train.append(duree_scrap[i].text.split(', \\n')[0]) \n",
    "        \n",
    "    return escale_train, duree_train"
   ]
  },
  {
   "cell_type": "code",
   "execution_count": 26,
   "id": "0cb64e4b",
   "metadata": {},
   "outputs": [],
   "source": [
    "def scrap(web):\n",
    "    driver = webdriver.Chrome('D:/Documents/ESILV/A5/WebScarpping/chromedriver.exe')\n",
    "    driver.get(web[1])\n",
    "    time.sleep(10)\n",
    "    \n",
    "    for i in range(15):        \n",
    "        driver.execute_script(\"window.scrollTo(0, document.body.scrollHeight);\")\n",
    "        time.sleep(3) \n",
    "    \n",
    "    horaire_depart, horaire_arrivee = scrap_horaires(driver)\n",
    "    ville_depart,ville_arrivee = scrap_villes(driver)\n",
    "    gare_depart, gare_arrivee = scrap_gares(driver)\n",
    "    prix = scrap_prix(driver)\n",
    "    escale_train, duree_train = scrap_trajet(driver)\n",
    "        \n",
    "    date_time = datetime.datetime.now()\n",
    "    #result = str(date_time.day) + '-' + str(date_time.month) + '-' + str(date_time.year) + '-' + str(date_time.hour)\n",
    "    \n",
    "    df = pd.DataFrame(list(zip(horaire_depart, horaire_arrivee, ville_depart, ville_arrivee, gare_depart, gare_arrivee, prix, duree_train, escale_train)),columns =['Horaire_Depart', 'Horaire_Arrivee', 'ville_depart', 'ville_arrivee', 'Gare_Depart', 'Gare_Arrivee', 'Prix_Train','Duree_Train','Escale_Train'])\n",
    "    \n",
    "    df.to_csv(\"D:/Documents/ESILV/A5/WebScarpping/Scrap_Tictactrip\" + web[0] + '_' + str(date_time.day) + '-' + str(date_time.month) + '-' + str(date_time.year) + '-' + str(date_time.hour) + '.csv', index = False)"
   ]
  },
  {
   "cell_type": "code",
   "execution_count": 27,
   "id": "c208dc97",
   "metadata": {},
   "outputs": [
    {
     "name": "stdout",
     "output_type": "stream",
     "text": [
      "05:46\n",
      "06:55\n",
      "09:05\n"
     ]
    },
    {
     "ename": "NoSuchWindowException",
     "evalue": "Message: no such window: target window already closed\nfrom unknown error: web view not found\n  (Session info: chrome=109.0.5414.75)\n",
     "output_type": "error",
     "traceback": [
      "\u001b[1;31m---------------------------------------------------------------------------\u001b[0m",
      "\u001b[1;31mNoSuchWindowException\u001b[0m                     Traceback (most recent call last)",
      "Cell \u001b[1;32mIn [27], line 4\u001b[0m\n\u001b[0;32m      2\u001b[0m scrap(paris_stuttgart)\n\u001b[0;32m      3\u001b[0m scrap(paris_budapest)\n\u001b[1;32m----> 4\u001b[0m \u001b[43mscrap\u001b[49m\u001b[43m(\u001b[49m\u001b[43mbordeaux_lyon\u001b[49m\u001b[43m)\u001b[49m\n",
      "Cell \u001b[1;32mIn [26], line 7\u001b[0m, in \u001b[0;36mscrap\u001b[1;34m(web)\u001b[0m\n\u001b[0;32m      4\u001b[0m time\u001b[38;5;241m.\u001b[39msleep(\u001b[38;5;241m10\u001b[39m)\n\u001b[0;32m      6\u001b[0m \u001b[38;5;28;01mfor\u001b[39;00m i \u001b[38;5;129;01min\u001b[39;00m \u001b[38;5;28mrange\u001b[39m(\u001b[38;5;241m15\u001b[39m):        \n\u001b[1;32m----> 7\u001b[0m     \u001b[43mdriver\u001b[49m\u001b[38;5;241;43m.\u001b[39;49m\u001b[43mexecute_script\u001b[49m\u001b[43m(\u001b[49m\u001b[38;5;124;43m\"\u001b[39;49m\u001b[38;5;124;43mwindow.scrollTo(0, document.body.scrollHeight);\u001b[39;49m\u001b[38;5;124;43m\"\u001b[39;49m\u001b[43m)\u001b[49m\n\u001b[0;32m      8\u001b[0m     time\u001b[38;5;241m.\u001b[39msleep(\u001b[38;5;241m3\u001b[39m) \n\u001b[0;32m     10\u001b[0m horaire_depart, horaire_arrivee \u001b[38;5;241m=\u001b[39m scrap_horaires(driver)\n",
      "File \u001b[1;32m~\\AppData\\Local\\Programs\\Python\\Python310\\lib\\site-packages\\selenium\\webdriver\\remote\\webdriver.py:634\u001b[0m, in \u001b[0;36mWebDriver.execute_script\u001b[1;34m(self, script, *args)\u001b[0m\n\u001b[0;32m    631\u001b[0m \u001b[38;5;28;01melse\u001b[39;00m:\n\u001b[0;32m    632\u001b[0m     command \u001b[38;5;241m=\u001b[39m Command\u001b[38;5;241m.\u001b[39mEXECUTE_SCRIPT\n\u001b[1;32m--> 634\u001b[0m \u001b[38;5;28;01mreturn\u001b[39;00m \u001b[38;5;28;43mself\u001b[39;49m\u001b[38;5;241;43m.\u001b[39;49m\u001b[43mexecute\u001b[49m\u001b[43m(\u001b[49m\u001b[43mcommand\u001b[49m\u001b[43m,\u001b[49m\u001b[43m \u001b[49m\u001b[43m{\u001b[49m\n\u001b[0;32m    635\u001b[0m \u001b[43m    \u001b[49m\u001b[38;5;124;43m'\u001b[39;49m\u001b[38;5;124;43mscript\u001b[39;49m\u001b[38;5;124;43m'\u001b[39;49m\u001b[43m:\u001b[49m\u001b[43m \u001b[49m\u001b[43mscript\u001b[49m\u001b[43m,\u001b[49m\n\u001b[0;32m    636\u001b[0m \u001b[43m    \u001b[49m\u001b[38;5;124;43m'\u001b[39;49m\u001b[38;5;124;43margs\u001b[39;49m\u001b[38;5;124;43m'\u001b[39;49m\u001b[43m:\u001b[49m\u001b[43m \u001b[49m\u001b[43mconverted_args\u001b[49m\u001b[43m}\u001b[49m\u001b[43m)\u001b[49m[\u001b[38;5;124m'\u001b[39m\u001b[38;5;124mvalue\u001b[39m\u001b[38;5;124m'\u001b[39m]\n",
      "File \u001b[1;32m~\\AppData\\Local\\Programs\\Python\\Python310\\lib\\site-packages\\selenium\\webdriver\\remote\\webdriver.py:321\u001b[0m, in \u001b[0;36mWebDriver.execute\u001b[1;34m(self, driver_command, params)\u001b[0m\n\u001b[0;32m    319\u001b[0m response \u001b[38;5;241m=\u001b[39m \u001b[38;5;28mself\u001b[39m\u001b[38;5;241m.\u001b[39mcommand_executor\u001b[38;5;241m.\u001b[39mexecute(driver_command, params)\n\u001b[0;32m    320\u001b[0m \u001b[38;5;28;01mif\u001b[39;00m response:\n\u001b[1;32m--> 321\u001b[0m     \u001b[38;5;28;43mself\u001b[39;49m\u001b[38;5;241;43m.\u001b[39;49m\u001b[43merror_handler\u001b[49m\u001b[38;5;241;43m.\u001b[39;49m\u001b[43mcheck_response\u001b[49m\u001b[43m(\u001b[49m\u001b[43mresponse\u001b[49m\u001b[43m)\u001b[49m\n\u001b[0;32m    322\u001b[0m     response[\u001b[38;5;124m'\u001b[39m\u001b[38;5;124mvalue\u001b[39m\u001b[38;5;124m'\u001b[39m] \u001b[38;5;241m=\u001b[39m \u001b[38;5;28mself\u001b[39m\u001b[38;5;241m.\u001b[39m_unwrap_value(\n\u001b[0;32m    323\u001b[0m         response\u001b[38;5;241m.\u001b[39mget(\u001b[38;5;124m'\u001b[39m\u001b[38;5;124mvalue\u001b[39m\u001b[38;5;124m'\u001b[39m, \u001b[38;5;28;01mNone\u001b[39;00m))\n\u001b[0;32m    324\u001b[0m     \u001b[38;5;28;01mreturn\u001b[39;00m response\n",
      "File \u001b[1;32m~\\AppData\\Local\\Programs\\Python\\Python310\\lib\\site-packages\\selenium\\webdriver\\remote\\errorhandler.py:242\u001b[0m, in \u001b[0;36mErrorHandler.check_response\u001b[1;34m(self, response)\u001b[0m\n\u001b[0;32m    240\u001b[0m         alert_text \u001b[38;5;241m=\u001b[39m value[\u001b[38;5;124m'\u001b[39m\u001b[38;5;124malert\u001b[39m\u001b[38;5;124m'\u001b[39m]\u001b[38;5;241m.\u001b[39mget(\u001b[38;5;124m'\u001b[39m\u001b[38;5;124mtext\u001b[39m\u001b[38;5;124m'\u001b[39m)\n\u001b[0;32m    241\u001b[0m     \u001b[38;5;28;01mraise\u001b[39;00m exception_class(message, screen, stacktrace, alert_text)\n\u001b[1;32m--> 242\u001b[0m \u001b[38;5;28;01mraise\u001b[39;00m exception_class(message, screen, stacktrace)\n",
      "\u001b[1;31mNoSuchWindowException\u001b[0m: Message: no such window: target window already closed\nfrom unknown error: web view not found\n  (Session info: chrome=109.0.5414.75)\n"
     ]
    }
   ],
   "source": [
    "scrap(paris_lyon)\n",
    "scrap(paris_stuttgart)\n",
    "scrap(paris_budapest)\n",
    "scrap(bordeaux_lyon)"
   ]
  },
  {
   "cell_type": "code",
   "execution_count": null,
   "id": "85d8c215",
   "metadata": {},
   "outputs": [],
   "source": [
    "button = driver.find_element_by_link_text(\"Bus\")\n",
    "button.click()"
   ]
  },
  {
   "cell_type": "code",
   "execution_count": null,
   "id": "ae3be8a1",
   "metadata": {},
   "outputs": [],
   "source": [
    "driver = webdriver.Chrome('D:/Documents/ESILV/A5/WebScarpping/chromedriver.exe')"
   ]
  },
  {
   "cell_type": "code",
   "execution_count": null,
   "id": "f20074ae",
   "metadata": {},
   "outputs": [],
   "source": [
    "button = driver.find_element_by_xpath('//div[//*[@id=\"mean_bus\"]]')"
   ]
  },
  {
   "cell_type": "code",
   "execution_count": null,
   "id": "e0f6336a",
   "metadata": {},
   "outputs": [],
   "source": [
    "button.click()"
   ]
  },
  {
   "cell_type": "code",
   "execution_count": null,
   "id": "42bb36f4",
   "metadata": {},
   "outputs": [],
   "source": [
    "button = driver.findElement(By.id())"
   ]
  }
 ],
 "metadata": {
  "kernelspec": {
   "display_name": "Python 3 (ipykernel)",
   "language": "python",
   "name": "python3"
  },
  "language_info": {
   "codemirror_mode": {
    "name": "ipython",
    "version": 3
   },
   "file_extension": ".py",
   "mimetype": "text/x-python",
   "name": "python",
   "nbconvert_exporter": "python",
   "pygments_lexer": "ipython3",
   "version": "3.10.0"
  }
 },
 "nbformat": 4,
 "nbformat_minor": 5
}
